{
 "cells": [
  {
   "cell_type": "markdown",
   "id": "altered-strategy",
   "metadata": {},
   "source": [
    "# Explore spatial organization dataset"
   ]
  },
  {
   "cell_type": "markdown",
   "id": "european-consistency",
   "metadata": {},
   "source": [
    "## Import libraries and set up paths"
   ]
  },
  {
   "cell_type": "code",
   "execution_count": 8,
   "id": "likely-video",
   "metadata": {},
   "outputs": [],
   "source": [
    "import os\n",
    "import sys\n",
    "import json\n",
    "from tqdm import tqdm\n",
    "\n",
    "import numpy as np\n",
    "import pandas as pd\n",
    "import seaborn as sns\n",
    "import matplotlib.pyplot as plt\n",
    "\n",
    "sys.path.append(\"/math111a_finalproject\")\n",
    "from utils.utils import *"
   ]
  },
  {
   "cell_type": "code",
   "execution_count": 22,
   "id": "satisfied-intellectual",
   "metadata": {
    "scrolled": true
   },
   "outputs": [],
   "source": [
    "proj_dir = os.path.abspath('..')\n",
    "data_dir = os.path.join(proj_dir, 'data')\n",
    "util_dir = os.path.join(proj_dir, 'utils')\n",
    "analysis_dir = os.path.join(proj_dir, 'analysis')"
   ]
  },
  {
   "cell_type": "markdown",
   "id": "prerequisite-profession",
   "metadata": {},
   "source": [
    "## Read in data"
   ]
  },
  {
   "cell_type": "code",
   "execution_count": 56,
   "id": "legitimate-brunei",
   "metadata": {},
   "outputs": [],
   "source": [
    "df = pd.read_csv(os.path.join(data_dir, 'metadata.csv'))\n",
    "df[\"labels\"] = df[\"labels\"].apply(eval)\n",
    "df[\"instances\"] = df[\"instances\"].apply(eval)\n",
    "\n",
    "imgmat = np.memmap(os.path.join(data_dir, 'image_arr.npy'), dtype='uint8', mode='r', \n",
    "                   offset=128, shape=(1449,480,640,3))\n",
    "depmat = np.memmap(os.path.join(data_dir, 'depth_arr.npy'), dtype='<f4', mode='r', \n",
    "                   offset=128, shape=(1449,480,640))\n",
    "labmat = np.memmap(os.path.join(data_dir, 'label_arr.npy'), dtype='uint16', mode='r', \n",
    "                  offset=128, shape=(1449,480,640))\n",
    "instmat = np.memmap(os.path.join(data_dir, 'instance_arr.npy'), dtype='uint8', mode='r', \n",
    "                  offset=128, shape=(1449,480,640))"
   ]
  },
  {
   "cell_type": "code",
   "execution_count": 57,
   "id": "upset-status",
   "metadata": {},
   "outputs": [
    {
     "data": {
      "text/html": [
       "<div>\n",
       "<style scoped>\n",
       "    .dataframe tbody tr th:only-of-type {\n",
       "        vertical-align: middle;\n",
       "    }\n",
       "\n",
       "    .dataframe tbody tr th {\n",
       "        vertical-align: top;\n",
       "    }\n",
       "\n",
       "    .dataframe thead th {\n",
       "        text-align: right;\n",
       "    }\n",
       "</style>\n",
       "<table border=\"1\" class=\"dataframe\">\n",
       "  <thead>\n",
       "    <tr style=\"text-align: right;\">\n",
       "      <th></th>\n",
       "      <th>index</th>\n",
       "      <th>scene</th>\n",
       "      <th>scene_type</th>\n",
       "      <th>labels</th>\n",
       "      <th>instances</th>\n",
       "    </tr>\n",
       "  </thead>\n",
       "  <tbody>\n",
       "    <tr>\n",
       "      <th>0</th>\n",
       "      <td>0</td>\n",
       "      <td>kitchen_0004</td>\n",
       "      <td>kitchen</td>\n",
       "      <td>[book, bottle, cabinet, ceiling, chair, cone, ...</td>\n",
       "      <td>[book_1, bottle_1, cabinet_1, cabinet_2, ceili...</td>\n",
       "    </tr>\n",
       "    <tr>\n",
       "      <th>1</th>\n",
       "      <td>1</td>\n",
       "      <td>kitchen_0004</td>\n",
       "      <td>kitchen</td>\n",
       "      <td>[bottle, bowl, cabinet, ceiling, counter, dish...</td>\n",
       "      <td>[bottle_1, bottle_2, bottle_3, bottle_4, bottl...</td>\n",
       "    </tr>\n",
       "    <tr>\n",
       "      <th>2</th>\n",
       "      <td>2</td>\n",
       "      <td>office_0003</td>\n",
       "      <td>office</td>\n",
       "      <td>[air vent, book, box, chair, door, door knob, ...</td>\n",
       "      <td>[air vent_1, air vent_2, book_1, box_1, chair_...</td>\n",
       "    </tr>\n",
       "    <tr>\n",
       "      <th>3</th>\n",
       "      <td>3</td>\n",
       "      <td>office_0003</td>\n",
       "      <td>office</td>\n",
       "      <td>[bottle, cabinet, chair, cork board, cup, desk...</td>\n",
       "      <td>[bottle_1, bottle_10, bottle_11, bottle_2, bot...</td>\n",
       "    </tr>\n",
       "    <tr>\n",
       "      <th>4</th>\n",
       "      <td>4</td>\n",
       "      <td>office_0004</td>\n",
       "      <td>office</td>\n",
       "      <td>[air duct, basket, bottle, cabinet, camera, ce...</td>\n",
       "      <td>[air duct_1, basket_1, basket_2, bottle_1, cab...</td>\n",
       "    </tr>\n",
       "  </tbody>\n",
       "</table>\n",
       "</div>"
      ],
      "text/plain": [
       "   index         scene scene_type  \\\n",
       "0      0  kitchen_0004    kitchen   \n",
       "1      1  kitchen_0004    kitchen   \n",
       "2      2   office_0003     office   \n",
       "3      3   office_0003     office   \n",
       "4      4   office_0004     office   \n",
       "\n",
       "                                              labels  \\\n",
       "0  [book, bottle, cabinet, ceiling, chair, cone, ...   \n",
       "1  [bottle, bowl, cabinet, ceiling, counter, dish...   \n",
       "2  [air vent, book, box, chair, door, door knob, ...   \n",
       "3  [bottle, cabinet, chair, cork board, cup, desk...   \n",
       "4  [air duct, basket, bottle, cabinet, camera, ce...   \n",
       "\n",
       "                                           instances  \n",
       "0  [book_1, bottle_1, cabinet_1, cabinet_2, ceili...  \n",
       "1  [bottle_1, bottle_2, bottle_3, bottle_4, bottl...  \n",
       "2  [air vent_1, air vent_2, book_1, box_1, chair_...  \n",
       "3  [bottle_1, bottle_10, bottle_11, bottle_2, bot...  \n",
       "4  [air duct_1, basket_1, basket_2, bottle_1, cab...  "
      ]
     },
     "execution_count": 57,
     "metadata": {},
     "output_type": "execute_result"
    }
   ],
   "source": [
    "df.head()"
   ]
  },
  {
   "cell_type": "code",
   "execution_count": 58,
   "id": "studied-burden",
   "metadata": {},
   "outputs": [
    {
     "data": {
      "text/plain": [
       "bedroom            383\n",
       "kitchen            225\n",
       "living_room        221\n",
       "bathroom           121\n",
       "dining_room        117\n",
       "office              78\n",
       "home_office         50\n",
       "classroom           49\n",
       "bookstore           36\n",
       "playroom            31\n",
       "furniture_store     27\n",
       "study               25\n",
       "reception_room      17\n",
       "office_kitchen      10\n",
       "study_room           7\n",
       "basement             7\n",
       "computer_lab         6\n",
       "conference_room      5\n",
       "student_lounge       5\n",
       "cafe                 5\n",
       "home_storage         5\n",
       "foyer                4\n",
       "dinette              4\n",
       "excercise_room       3\n",
       "printer_room         3\n",
       "laundry_room         3\n",
       "indoor_balcony       2\n",
       "Name: scene_type, dtype: int64"
      ]
     },
     "execution_count": 58,
     "metadata": {},
     "output_type": "execute_result"
    }
   ],
   "source": [
    "df.scene_type.value_counts()"
   ]
  },
  {
   "cell_type": "code",
   "execution_count": 59,
   "id": "weird-briefs",
   "metadata": {},
   "outputs": [
    {
     "data": {
      "text/plain": [
       "unlabeled            1449\n",
       "wall                 1409\n",
       "floor                1246\n",
       "picture               818\n",
       "cabinet               664\n",
       "                     ... \n",
       "scenary                 1\n",
       "shower hose             1\n",
       "water fountain          1\n",
       "toy bin                 1\n",
       "toy cash register       1\n",
       "Length: 895, dtype: int64"
      ]
     },
     "execution_count": 59,
     "metadata": {},
     "output_type": "execute_result"
    }
   ],
   "source": [
    "to_1D(df.labels).value_counts()"
   ]
  },
  {
   "cell_type": "code",
   "execution_count": 73,
   "id": "iraqi-ownership",
   "metadata": {},
   "outputs": [],
   "source": [
    "labs_bool = boolean_df(df.labels, to_1D(df.labels).unique())\n",
    "labs_corr = labs_bool.corr(method = \"pearson\")\n",
    "np.fill_diagonal(labs_corr.values, 0)"
   ]
  },
  {
   "cell_type": "code",
   "execution_count": 74,
   "id": "painted-model",
   "metadata": {},
   "outputs": [
    {
     "data": {
      "text/plain": [
       "book                bookshelf\n",
       "bottle                   sink\n",
       "cabinet               counter\n",
       "ceiling                 light\n",
       "chair                   table\n",
       "                     ...     \n",
       "sewing machine         candle\n",
       "rolled up rug     candlestick\n",
       "doily                decanter\n",
       "coffee pot             shofar\n",
       "torah                 platter\n",
       "Length: 895, dtype: object"
      ]
     },
     "execution_count": 74,
     "metadata": {},
     "output_type": "execute_result"
    }
   ],
   "source": [
    "labs_corr.idxmax()"
   ]
  },
  {
   "cell_type": "code",
   "execution_count": null,
   "id": "downtown-irish",
   "metadata": {},
   "outputs": [],
   "source": [
    "\n"
   ]
  },
  {
   "cell_type": "code",
   "execution_count": 168,
   "id": "humanitarian-device",
   "metadata": {},
   "outputs": [],
   "source": [
    "grouped  = (\n",
    "    df.groupby('scene')\n",
    "    .first()\n",
    "    .reset_index()\n",
    "    .groupby('scene_type')\n",
    "    .labels.apply(to_1D)\n",
    "    .droplevel(level=1)\n",
    ").groupby('scene_type')"
   ]
  },
  {
   "cell_type": "code",
   "execution_count": 187,
   "id": "aerial-signal",
   "metadata": {},
   "outputs": [],
   "source": [
    "unique_objects = {}\n",
    "for name, df in grouped:\n",
    "    unique_objects[name] = {*df.to_list()}"
   ]
  },
  {
   "cell_type": "code",
   "execution_count": 197,
   "id": "color-washer",
   "metadata": {},
   "outputs": [
    {
     "data": {
      "text/plain": [
       "0.21739130434782608"
      ]
     },
     "execution_count": 197,
     "metadata": {},
     "output_type": "execute_result"
    }
   ],
   "source": [
    "len(unique_objects['bedroom'].intersection(unique_objects['bathroom'])) / \\\n",
    "       len(unique_objects['bedroom'].union(unique_objects['bathroom']))"
   ]
  },
  {
   "cell_type": "code",
   "execution_count": 215,
   "id": "personal-witness",
   "metadata": {},
   "outputs": [],
   "source": [
    "rooms = list(unique_objects.keys())\n",
    "sim_mat = pd.DataFrame(index=rooms, columns=rooms)\n",
    "for room1 in rooms:\n",
    "    for room2 in rooms:\n",
    "        sim_mat.at[room1, room2] = len(unique_objects[room1].intersection(unique_objects[room2])) / \\\n",
    "                                   len(unique_objects[room1].union(unique_objects[room2]))\n",
    "np.fill_diagonal(sim_mat.values, 0)\n",
    "sim_mat = sim_mat.fillna(0)"
   ]
  },
  {
   "cell_type": "code",
   "execution_count": 223,
   "id": "terminal-eclipse",
   "metadata": {},
   "outputs": [
    {
     "data": {
      "text/plain": [
       "basement              home_storage\n",
       "bathroom                 classroom\n",
       "bedroom                living_room\n",
       "bookstore               study_room\n",
       "cafe                indoor_balcony\n",
       "classroom                   office\n",
       "computer_lab            study_room\n",
       "conference_room           basement\n",
       "dinette             indoor_balcony\n",
       "dining_room            living_room\n",
       "excercise_room      student_lounge\n",
       "foyer               reception_room\n",
       "furniture_store     reception_room\n",
       "home_office                  study\n",
       "home_storage              basement\n",
       "indoor_balcony             dinette\n",
       "kitchen                dining_room\n",
       "laundry_room       conference_room\n",
       "living_room            dining_room\n",
       "office                   classroom\n",
       "office_kitchen              office\n",
       "playroom               home_office\n",
       "printer_room                 foyer\n",
       "reception_room      student_lounge\n",
       "student_lounge      reception_room\n",
       "study                  home_office\n",
       "study_room            computer_lab\n",
       "dtype: object"
      ]
     },
     "execution_count": 223,
     "metadata": {},
     "output_type": "execute_result"
    }
   ],
   "source": [
    "sim_mat.idxmax()"
   ]
  },
  {
   "cell_type": "code",
   "execution_count": 202,
   "id": "antique-billion",
   "metadata": {},
   "outputs": [
    {
     "data": {
      "text/plain": [
       "book              0.202891\n",
       "bottle            0.450684\n",
       "cabinet           0.526995\n",
       "ceiling           0.438108\n",
       "chair             0.406655\n",
       "                    ...   \n",
       "sewing machine    0.183891\n",
       "rolled up rug     0.127555\n",
       "doily             0.446595\n",
       "coffee pot        0.576951\n",
       "torah             0.315243\n",
       "Length: 895, dtype: float64"
      ]
     },
     "execution_count": 202,
     "metadata": {},
     "output_type": "execute_result"
    }
   ],
   "source": [
    "labs_corr.max()"
   ]
  }
 ],
 "metadata": {
  "kernelspec": {
   "display_name": "Python 3 (ipykernel)",
   "language": "python",
   "name": "python3"
  },
  "language_info": {
   "codemirror_mode": {
    "name": "ipython",
    "version": 3
   },
   "file_extension": ".py",
   "mimetype": "text/x-python",
   "name": "python",
   "nbconvert_exporter": "python",
   "pygments_lexer": "ipython3",
   "version": "3.7.11"
  },
  "toc": {
   "base_numbering": 1,
   "nav_menu": {},
   "number_sections": true,
   "sideBar": true,
   "skip_h1_title": true,
   "title_cell": "Table of Contents",
   "title_sidebar": "Contents",
   "toc_cell": false,
   "toc_position": {},
   "toc_section_display": true,
   "toc_window_display": false
  }
 },
 "nbformat": 4,
 "nbformat_minor": 5
}
